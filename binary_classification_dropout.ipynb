{
 "cells": [
  {
   "cell_type": "markdown",
   "metadata": {},
   "source": [
    "## 1. Binary Classifier"
   ]
  },
  {
   "cell_type": "code",
   "execution_count": 1,
   "metadata": {},
   "outputs": [
    {
     "name": "stdout",
     "output_type": "stream",
     "text": [
      "2.1.0\n"
     ]
    }
   ],
   "source": [
    "from __future__ import absolute_import, division, print_function, unicode_literals\n",
    "import tensorflow as tf\n",
    "from tensorflow.keras.models import Sequential\n",
    "from tensorflow.keras import models, Input\n",
    "from tensorflow.keras.layers import Dense, Conv2D, Flatten, Dropout, MaxPooling2D, UpSampling2D, GaussianNoise, BatchNormalization, concatenate, Cropping2D, ZeroPadding2D, AvgPool2D, Dropout\n",
    "from tensorflow.keras.preprocessing.image import ImageDataGenerator\n",
    "import tensorflow.keras.backend as K\n",
    "from skimage.io import imread\n",
    "from sklearn.model_selection import train_test_split\n",
    "\n",
    "from skimage.segmentation import mark_boundaries\n",
    "from skimage.util import montage\n",
    "montage_rgb = lambda x: np.stack([montage(x[:, :, :, i]) for i in range(x.shape[3])], -1)\n",
    "\n",
    "import os, shutil\n",
    "import numpy as np\n",
    "import pandas as pd\n",
    "import matplotlib.pyplot as plt\n",
    "from PIL import Image, ImageFile\n",
    "ImageFile.LOAD_TRUNCATED_IMAGES = True\n",
    "import gc\n",
    "import pickle\n",
    "import datetime\n",
    "\n",
    "gc.enable()\n",
    "\n",
    "ship_dir = '../data/'\n",
    "train_image_dir = os.path.join(ship_dir, 'train_v2')\n",
    "test_image_dir = os.path.join(ship_dir, 'test_v2')\n",
    "\n",
    "print(tf.__version__)"
   ]
  },
  {
   "cell_type": "code",
   "execution_count": 2,
   "metadata": {},
   "outputs": [],
   "source": [
    "# define params for the model\n",
    "class Params():\n",
    "    def __init__(self):\n",
    "        self.batch_size = 128\n",
    "        self.epochs = 25\n",
    "        self.image_size = (256, 256)\n",
    "        \n",
    "params = Params()"
   ]
  },
  {
   "cell_type": "code",
   "execution_count": 3,
   "metadata": {},
   "outputs": [
    {
     "name": "stdout",
     "output_type": "stream",
     "text": [
      "231723 masks found\n",
      "192556 unique images found\n"
     ]
    },
    {
     "data": {
      "text/html": [
       "<div>\n",
       "<style scoped>\n",
       "    .dataframe tbody tr th:only-of-type {\n",
       "        vertical-align: middle;\n",
       "    }\n",
       "\n",
       "    .dataframe tbody tr th {\n",
       "        vertical-align: top;\n",
       "    }\n",
       "\n",
       "    .dataframe thead th {\n",
       "        text-align: right;\n",
       "    }\n",
       "</style>\n",
       "<table border=\"1\" class=\"dataframe\">\n",
       "  <thead>\n",
       "    <tr style=\"text-align: right;\">\n",
       "      <th></th>\n",
       "      <th>ImageId</th>\n",
       "      <th>EncodedPixels</th>\n",
       "    </tr>\n",
       "  </thead>\n",
       "  <tbody>\n",
       "    <tr>\n",
       "      <th>186490</th>\n",
       "      <td>ce02844c5.jpg</td>\n",
       "      <td>NaN</td>\n",
       "    </tr>\n",
       "  </tbody>\n",
       "</table>\n",
       "</div>"
      ],
      "text/plain": [
       "              ImageId EncodedPixels\n",
       "186490  ce02844c5.jpg           NaN"
      ]
     },
     "execution_count": 3,
     "metadata": {},
     "output_type": "execute_result"
    }
   ],
   "source": [
    "# read the mask data provided by kaggle\n",
    "seg = pd.read_csv(os.path.join(ship_dir, 'train_ship_segmentations_v2.csv'))\n",
    "print(seg.shape[0], 'masks found')\n",
    "print(seg['ImageId'].value_counts().shape[0], 'unique images found')\n",
    "seg.sample()"
   ]
  },
  {
   "cell_type": "code",
   "execution_count": 4,
   "metadata": {},
   "outputs": [
    {
     "data": {
      "text/html": [
       "<div>\n",
       "<style scoped>\n",
       "    .dataframe tbody tr th:only-of-type {\n",
       "        vertical-align: middle;\n",
       "    }\n",
       "\n",
       "    .dataframe tbody tr th {\n",
       "        vertical-align: top;\n",
       "    }\n",
       "\n",
       "    .dataframe thead th {\n",
       "        text-align: right;\n",
       "    }\n",
       "</style>\n",
       "<table border=\"1\" class=\"dataframe\">\n",
       "  <thead>\n",
       "    <tr style=\"text-align: right;\">\n",
       "      <th></th>\n",
       "      <th>ImageId</th>\n",
       "      <th>ship_count</th>\n",
       "      <th>has_ship</th>\n",
       "      <th>class</th>\n",
       "    </tr>\n",
       "  </thead>\n",
       "  <tbody>\n",
       "    <tr>\n",
       "      <th>109987</th>\n",
       "      <td>9237cc654.jpg</td>\n",
       "      <td>0</td>\n",
       "      <td>0</td>\n",
       "      <td>no_ship</td>\n",
       "    </tr>\n",
       "    <tr>\n",
       "      <th>126479</th>\n",
       "      <td>a83f05847.jpg</td>\n",
       "      <td>0</td>\n",
       "      <td>0</td>\n",
       "      <td>no_ship</td>\n",
       "    </tr>\n",
       "    <tr>\n",
       "      <th>174567</th>\n",
       "      <td>e822d460c.jpg</td>\n",
       "      <td>0</td>\n",
       "      <td>0</td>\n",
       "      <td>no_ship</td>\n",
       "    </tr>\n",
       "    <tr>\n",
       "      <th>77537</th>\n",
       "      <td>670be7295.jpg</td>\n",
       "      <td>0</td>\n",
       "      <td>0</td>\n",
       "      <td>no_ship</td>\n",
       "    </tr>\n",
       "    <tr>\n",
       "      <th>189163</th>\n",
       "      <td>fb8d2019a.jpg</td>\n",
       "      <td>0</td>\n",
       "      <td>0</td>\n",
       "      <td>no_ship</td>\n",
       "    </tr>\n",
       "    <tr>\n",
       "      <th>167602</th>\n",
       "      <td>dee71e926.jpg</td>\n",
       "      <td>0</td>\n",
       "      <td>0</td>\n",
       "      <td>no_ship</td>\n",
       "    </tr>\n",
       "    <tr>\n",
       "      <th>101946</th>\n",
       "      <td>878b2057a.jpg</td>\n",
       "      <td>0</td>\n",
       "      <td>0</td>\n",
       "      <td>no_ship</td>\n",
       "    </tr>\n",
       "    <tr>\n",
       "      <th>57134</th>\n",
       "      <td>4c2dc7d28.jpg</td>\n",
       "      <td>0</td>\n",
       "      <td>0</td>\n",
       "      <td>no_ship</td>\n",
       "    </tr>\n",
       "    <tr>\n",
       "      <th>28007</th>\n",
       "      <td>253c19424.jpg</td>\n",
       "      <td>0</td>\n",
       "      <td>0</td>\n",
       "      <td>no_ship</td>\n",
       "    </tr>\n",
       "    <tr>\n",
       "      <th>98574</th>\n",
       "      <td>83253b306.jpg</td>\n",
       "      <td>0</td>\n",
       "      <td>0</td>\n",
       "      <td>no_ship</td>\n",
       "    </tr>\n",
       "  </tbody>\n",
       "</table>\n",
       "</div>"
      ],
      "text/plain": [
       "              ImageId  ship_count  has_ship    class\n",
       "109987  9237cc654.jpg           0         0  no_ship\n",
       "126479  a83f05847.jpg           0         0  no_ship\n",
       "174567  e822d460c.jpg           0         0  no_ship\n",
       "77537   670be7295.jpg           0         0  no_ship\n",
       "189163  fb8d2019a.jpg           0         0  no_ship\n",
       "167602  dee71e926.jpg           0         0  no_ship\n",
       "101946  878b2057a.jpg           0         0  no_ship\n",
       "57134   4c2dc7d28.jpg           0         0  no_ship\n",
       "28007   253c19424.jpg           0         0  no_ship\n",
       "98574   83253b306.jpg           0         0  no_ship"
      ]
     },
     "execution_count": 4,
     "metadata": {},
     "output_type": "execute_result"
    }
   ],
   "source": [
    "# identify images that have a mask (ship identification)\n",
    "from util import agg_ship_count\n",
    "train_df = agg_ship_count(pd.read_csv(os.path.join(ship_dir, 'train_ship_segmentations_v2.csv')), train_image_dir)\n",
    "train_df.sample(10)"
   ]
  },
  {
   "cell_type": "code",
   "execution_count": 5,
   "metadata": {},
   "outputs": [
    {
     "name": "stdout",
     "output_type": "stream",
     "text": [
      "143466 training samples\n",
      "47823 validation samples\n"
     ]
    }
   ],
   "source": [
    "# Create a validation set by splitting the training data\n",
    "from sklearn.model_selection import train_test_split\n",
    "train_df, valid_df = train_test_split(\n",
    "    train_df,\n",
    "    test_size=0.25,\n",
    "    stratify = train_df['has_ship']\n",
    ")\n",
    "\n",
    "print(train_df.shape[0], 'training samples')\n",
    "print(valid_df.shape[0], 'validation samples')"
   ]
  },
  {
   "cell_type": "code",
   "execution_count": 6,
   "metadata": {},
   "outputs": [
    {
     "data": {
      "text/plain": [
       "<matplotlib.axes._subplots.AxesSubplot at 0x7f6d65790350>"
      ]
     },
     "execution_count": 6,
     "metadata": {},
     "output_type": "execute_result"
    },
    {
     "data": {
      "image/png": "[encoded data removed]",
      "text/plain": [
       "<Figure size 432x288 with 1 Axes>"
      ]
     },
     "metadata": {
      "needs_background": "light"
     },
     "output_type": "display_data"
    }
   ],
   "source": [
    "valid_df['class'].hist()"
   ]
  },
  {
   "cell_type": "code",
   "execution_count": 7,
   "metadata": {},
   "outputs": [
    {
     "name": "stdout",
     "output_type": "stream",
     "text": [
      "no_ship count: 111969\n",
      "ship count:     31497\n"
     ]
    }
   ],
   "source": [
    "no_ship_count = train_df[train_df['class'] == 'no_ship'].shape[0]\n",
    "ship_count = train_df[train_df[\"class\"] == 'ship'].shape[0]\n",
    "\n",
    "print('no_ship count: {}\\nship count:     {}'.format(no_ship_count, ship_count))"
   ]
  },
  {
   "cell_type": "code",
   "execution_count": 8,
   "metadata": {},
   "outputs": [],
   "source": [
    "no_ship_idxs = train_df[train_df['class'] == 'no_ship'].sample(no_ship_count - ship_count - 10000).index\n",
    "balanced_train_df = train_df.drop(no_ship_idxs, inplace=False)"
   ]
  },
  {
   "cell_type": "code",
   "execution_count": 9,
   "metadata": {},
   "outputs": [
    {
     "name": "stdout",
     "output_type": "stream",
     "text": [
      "balanced no ship count: 41497\n"
     ]
    }
   ],
   "source": [
    "no_ship_count = balanced_train_df[balanced_train_df['class'] == 'no_ship'].shape[0]\n",
    "print('balanced no ship count: {}'.format(no_ship_count))"
   ]
  },
  {
   "cell_type": "code",
   "execution_count": 10,
   "metadata": {},
   "outputs": [
    {
     "name": "stdout",
     "output_type": "stream",
     "text": [
      "Found 47823 validated image filenames belonging to 2 classes.\n",
      "Found 72994 validated image filenames belonging to 2 classes.\n"
     ]
    }
   ],
   "source": [
    "valid_image_generator = ImageDataGenerator(rescale=1./255)\n",
    "valid_data_gen = valid_image_generator.flow_from_dataframe(\n",
    "    valid_df,\n",
    "    directory=train_image_dir,\n",
    "    x_col='ImageId',\n",
    "    y_col='class',\n",
    "    target_size=(256, 256),\n",
    "    class_mode='binary',\n",
    "    shuffle=True\n",
    ")\n",
    "\n",
    "train_image_generator = ImageDataGenerator(\n",
    "    rescale=1./255,\n",
    "    rotation_range=10,\n",
    "    horizontal_flip=True\n",
    ")\n",
    "\n",
    "train_data_gen = train_image_generator.flow_from_dataframe(\n",
    "    balanced_train_df,\n",
    "    directory=train_image_dir,\n",
    "    x_col='ImageId',\n",
    "    y_col='class',\n",
    "    target_size=(256, 256),\n",
    "    class_mode='binary',\n",
    "    shuffle=True\n",
    ")"
   ]
  },
  {
   "cell_type": "code",
   "execution_count": 11,
   "metadata": {},
   "outputs": [],
   "source": [
    "model_ts = str(datetime.datetime.now()).replace(' ', '_')"
   ]
  },
  {
   "cell_type": "code",
   "execution_count": 12,
   "metadata": {},
   "outputs": [],
   "source": [
    "model = Sequential([\n",
    "    Conv2D(32, (3, 3), padding='same', activation='relu', input_shape=(256, 256 ,3)),\n",
    "    MaxPooling2D(),\n",
    "    Dropout(0.2),\n",
    "    Conv2D(32, (3, 3), padding='same', activation='relu'),\n",
    "    MaxPooling2D(),\n",
    "    Dropout(0.2),\n",
    "    Conv2D(64, (3, 3), padding='same', activation='relu'),\n",
    "    MaxPooling2D(),\n",
    "    Dropout(0.2),\n",
    "    Conv2D(64, (3, 3), padding='same', activation='relu'),\n",
    "    MaxPooling2D(),\n",
    "    Dropout(0.2),\n",
    "    Flatten(),\n",
    "    Dense(512, activation='relu'),\n",
    "    Dense(1)\n",
    "])\n",
    "\n",
    "optimizer = tf.keras.optimizers.Adam(\n",
    "    learning_rate=10e-4, \n",
    "    beta_1=0.9, \n",
    "    beta_2=0.999, \n",
    "    epsilon=1e-07,\n",
    "    name='Adam'\n",
    ")"
   ]
  },
  {
   "cell_type": "code",
   "execution_count": 23,
   "metadata": {},
   "outputs": [],
   "source": [
    "tensorboard = tf.keras.callbacks.TensorBoard(\n",
    "    log_dir='binary_summaries', \n",
    "    histogram_freq=1, \n",
    "    write_graph=True, \n",
    "    write_images=True,\n",
    "    update_freq='epoch', \n",
    "    profile_batch=2, \n",
    "    embeddings_freq=0,\n",
    "    embeddings_metadata=None\n",
    ")\n",
    "\n",
    "csvLogger = tf.keras.callbacks.CSVLogger(\n",
    "    'dropout_{}'.format(model_ts), separator=',', append=False\n",
    ")\n",
    "\n",
    "checkpoint = tf.keras.callbacks.ModelCheckpoint(\n",
    "    'checkpoints',\n",
    "    monitor='val_accuracy',\n",
    "    verbose=1,\n",
    "    save_best_only=False,\n",
    "    save_weights_only=False,\n",
    "    mode='auto',\n",
    "    save_freq='epoch'\n",
    ")\n",
    "\n",
    "reduceLROnPlateautf = tf.keras.callbacks.ReduceLROnPlateau(\n",
    "    monitor='val_accuracy', \n",
    "    factor=0.1, \n",
    "    patience=3, \n",
    "    verbose=1, \n",
    "    mode='auto',\n",
    "    min_delta=0, \n",
    "    cooldown=0, \n",
    "    min_lr=0\n",
    ")\n",
    "\n",
    "earlyStop = tf.keras.callbacks.EarlyStopping(\n",
    "    monitor='val_accuracy', \n",
    "    min_delta=0, \n",
    "    patience=10, \n",
    "    verbose=1, \n",
    "    mode='max',\n",
    "    baseline=None, \n",
    "    restore_best_weights=False\n",
    ")\n",
    "\n",
    "optimizer = tf.keras.optimizers.Adam(\n",
    "    learning_rate=10e-4, \n",
    "    beta_1=0.9, \n",
    "    beta_2=0.999, \n",
    "    epsilon=1e-07,\n",
    "    name='Adam'\n",
    ")\n",
    "\n",
    "callbacks = [reduceLROnPlateautf, earlyStop, tensorboard, checkpoint, csvLogger]\n"
   ]
  },
  {
   "cell_type": "code",
   "execution_count": 24,
   "metadata": {},
   "outputs": [
    {
     "name": "stdout",
     "output_type": "stream",
     "text": [
      "Model: \"sequential\"\n",
      "_________________________________________________________________\n",
      "Layer (type)                 Output Shape              Param #   \n",
      "=================================================================\n",
      "conv2d (Conv2D)              (None, 256, 256, 32)      896       \n",
      "_________________________________________________________________\n",
      "max_pooling2d (MaxPooling2D) (None, 128, 128, 32)      0         \n",
      "_________________________________________________________________\n",
      "dropout (Dropout)            (None, 128, 128, 32)      0         \n",
      "_________________________________________________________________\n",
      "conv2d_1 (Conv2D)            (None, 128, 128, 32)      9248      \n",
      "_________________________________________________________________\n",
      "max_pooling2d_1 (MaxPooling2 (None, 64, 64, 32)        0         \n",
      "_________________________________________________________________\n",
      "dropout_1 (Dropout)          (None, 64, 64, 32)        0         \n",
      "_________________________________________________________________\n",
      "conv2d_2 (Conv2D)            (None, 64, 64, 64)        18496     \n",
      "_________________________________________________________________\n",
      "max_pooling2d_2 (MaxPooling2 (None, 32, 32, 64)        0         \n",
      "_________________________________________________________________\n",
      "dropout_2 (Dropout)          (None, 32, 32, 64)        0         \n",
      "_________________________________________________________________\n",
      "conv2d_3 (Conv2D)            (None, 32, 32, 64)        36928     \n",
      "_________________________________________________________________\n",
      "max_pooling2d_3 (MaxPooling2 (None, 16, 16, 64)        0         \n",
      "_________________________________________________________________\n",
      "dropout_3 (Dropout)          (None, 16, 16, 64)        0         \n",
      "_________________________________________________________________\n",
      "flatten (Flatten)            (None, 16384)             0         \n",
      "_________________________________________________________________\n",
      "dense (Dense)                (None, 512)               8389120   \n",
      "_________________________________________________________________\n",
      "dense_1 (Dense)              (None, 1)                 513       \n",
      "=================================================================\n",
      "Total params: 8,455,201\n",
      "Trainable params: 8,455,201\n",
      "Non-trainable params: 0\n",
      "_________________________________________________________________\n"
     ]
    }
   ],
   "source": [
    "model.compile(\n",
    "    optimizer=optimizer,\n",
    "    loss=tf.keras.losses.BinaryCrossentropy(from_logits=True),\n",
    "    metrics=['accuracy']\n",
    ")\n",
    "model.summary()"
   ]
  },
  {
   "cell_type": "code",
   "execution_count": 27,
   "metadata": {},
   "outputs": [
    {
     "name": "stdout",
     "output_type": "stream",
     "text": [
      "WARNING:tensorflow:sample_weight modes were coerced from\n",
      "  ...\n",
      "    to  \n",
      "  ['...']\n",
      "WARNING:tensorflow:sample_weight modes were coerced from\n",
      "  ...\n",
      "    to  \n",
      "  ['...']\n",
      "Train for 570 steps, validate for 373 steps\n",
      "Epoch 1/100\n",
      "569/570 [============================>.] - ETA: 0s - loss: 0.2101 - accuracy: 0.9130\n",
      "Epoch 00001: saving model to checkpoints\n",
      "INFO:tensorflow:Assets written to: checkpoints/assets\n",
      "570/570 [==============================] - 322s 565ms/step - loss: 0.2102 - accuracy: 0.9128 - val_loss: 0.2394 - val_accuracy: 0.9215\n",
      "Epoch 2/100\n",
      "569/570 [============================>.] - ETA: 0s - loss: 0.2016 - accuracy: 0.9167\n",
      "Epoch 00002: saving model to checkpoints\n",
      "INFO:tensorflow:Assets written to: checkpoints/assets\n",
      "570/570 [==============================] - 321s 564ms/step - loss: 0.2016 - accuracy: 0.9167 - val_loss: 0.2386 - val_accuracy: 0.9215\n",
      "Epoch 3/100\n",
      "569/570 [============================>.] - ETA: 0s - loss: 0.2066 - accuracy: 0.9159\n",
      "Epoch 00003: saving model to checkpoints\n",
      "INFO:tensorflow:Assets written to: checkpoints/assets\n",
      "570/570 [==============================] - 322s 565ms/step - loss: 0.2066 - accuracy: 0.9159 - val_loss: 0.2382 - val_accuracy: 0.9215\n",
      "Epoch 4/100\n",
      "569/570 [============================>.] - ETA: 0s - loss: 0.2056 - accuracy: 0.9162\n",
      "Epoch 00004: saving model to checkpoints\n",
      "INFO:tensorflow:Assets written to: checkpoints/assets\n",
      "570/570 [==============================] - 322s 565ms/step - loss: 0.2057 - accuracy: 0.9162 - val_loss: 0.2370 - val_accuracy: 0.9218\n",
      "Epoch 5/100\n",
      "569/570 [============================>.] - ETA: 0s - loss: 0.2068 - accuracy: 0.9151\n",
      "Epoch 00005: saving model to checkpoints\n",
      "INFO:tensorflow:Assets written to: checkpoints/assets\n",
      "570/570 [==============================] - 321s 563ms/step - loss: 0.2067 - accuracy: 0.9151 - val_loss: 0.2371 - val_accuracy: 0.9222\n",
      "Epoch 6/100\n",
      "569/570 [============================>.] - ETA: 0s - loss: 0.2076 - accuracy: 0.9125\n",
      "Epoch 00006: saving model to checkpoints\n",
      "INFO:tensorflow:Assets written to: checkpoints/assets\n",
      "570/570 [==============================] - 321s 562ms/step - loss: 0.2075 - accuracy: 0.9125 - val_loss: 0.2372 - val_accuracy: 0.9218\n",
      "Epoch 7/100\n",
      "569/570 [============================>.] - ETA: 0s - loss: 0.2066 - accuracy: 0.9140\n",
      "Epoch 00007: saving model to checkpoints\n",
      "INFO:tensorflow:Assets written to: checkpoints/assets\n",
      "570/570 [==============================] - 321s 563ms/step - loss: 0.2070 - accuracy: 0.9139 - val_loss: 0.2365 - val_accuracy: 0.9220\n",
      "Epoch 8/100\n",
      "569/570 [============================>.] - ETA: 0s - loss: 0.2138 - accuracy: 0.9131\n",
      "Epoch 00008: ReduceLROnPlateau reducing learning rate to 1.0000001111620805e-07.\n",
      "\n",
      "Epoch 00008: saving model to checkpoints\n",
      "INFO:tensorflow:Assets written to: checkpoints/assets\n",
      "570/570 [==============================] - 321s 563ms/step - loss: 0.2137 - accuracy: 0.9132 - val_loss: 0.2368 - val_accuracy: 0.9217\n",
      "Epoch 9/100\n",
      "569/570 [============================>.] - ETA: 0s - loss: 0.1974 - accuracy: 0.9183\n",
      "Epoch 00009: saving model to checkpoints\n",
      "INFO:tensorflow:Assets written to: checkpoints/assets\n",
      "570/570 [==============================] - 320s 562ms/step - loss: 0.1972 - accuracy: 0.9184 - val_loss: 0.2367 - val_accuracy: 0.9218\n",
      "Epoch 10/100\n",
      "569/570 [============================>.] - ETA: 0s - loss: 0.2052 - accuracy: 0.9152\n",
      "Epoch 00010: saving model to checkpoints\n",
      "INFO:tensorflow:Assets written to: checkpoints/assets\n",
      "570/570 [==============================] - 320s 562ms/step - loss: 0.2053 - accuracy: 0.9152 - val_loss: 0.2367 - val_accuracy: 0.9218\n",
      "Epoch 11/100\n",
      "569/570 [============================>.] - ETA: 0s - loss: 0.2099 - accuracy: 0.9150\n",
      "Epoch 00011: ReduceLROnPlateau reducing learning rate to 1.000000082740371e-08.\n",
      "\n",
      "Epoch 00011: saving model to checkpoints\n",
      "INFO:tensorflow:Assets written to: checkpoints/assets\n",
      "570/570 [==============================] - 321s 562ms/step - loss: 0.2100 - accuracy: 0.9150 - val_loss: 0.2369 - val_accuracy: 0.9219\n",
      "Epoch 12/100\n",
      "569/570 [============================>.] - ETA: 0s - loss: 0.2142 - accuracy: 0.9126\n",
      "Epoch 00012: saving model to checkpoints\n",
      "INFO:tensorflow:Assets written to: checkpoints/assets\n",
      "570/570 [==============================] - 320s 562ms/step - loss: 0.2141 - accuracy: 0.9127 - val_loss: 0.2369 - val_accuracy: 0.9219\n",
      "Epoch 13/100\n",
      "569/570 [============================>.] - ETA: 0s - loss: 0.2060 - accuracy: 0.9147\n",
      "Epoch 00013: saving model to checkpoints\n",
      "INFO:tensorflow:Assets written to: checkpoints/assets\n",
      "570/570 [==============================] - 320s 562ms/step - loss: 0.2060 - accuracy: 0.9146 - val_loss: 0.2369 - val_accuracy: 0.9219\n",
      "Epoch 14/100\n",
      "569/570 [============================>.] - ETA: 0s - loss: 0.2058 - accuracy: 0.9151\n",
      "Epoch 00014: ReduceLROnPlateau reducing learning rate to 1.000000082740371e-09.\n",
      "\n",
      "Epoch 00014: saving model to checkpoints\n",
      "INFO:tensorflow:Assets written to: checkpoints/assets\n",
      "570/570 [==============================] - 321s 562ms/step - loss: 0.2057 - accuracy: 0.9152 - val_loss: 0.2369 - val_accuracy: 0.9219\n",
      "Epoch 15/100\n",
      "569/570 [============================>.] - ETA: 0s - loss: 0.2055 - accuracy: 0.9158\n",
      "Epoch 00015: saving model to checkpoints\n",
      "INFO:tensorflow:Assets written to: checkpoints/assets\n",
      "570/570 [==============================] - 320s 561ms/step - loss: 0.2053 - accuracy: 0.9158 - val_loss: 0.2369 - val_accuracy: 0.9219\n",
      "Epoch 00015: early stopping\n"
     ]
    }
   ],
   "source": [
    "history = model.fit(\n",
    "    train_data_gen,\n",
    "    steps_per_epoch=balanced_train_df.shape[0] // params.batch_size,\n",
    "    epochs=100,\n",
    "    callbacks=callbacks,\n",
    "    validation_data=valid_data_gen,\n",
    "    validation_steps=valid_df.shape[0] // params.batch_size\n",
    ")"
   ]
  },
  {
   "cell_type": "code",
   "execution_count": 35,
   "metadata": {},
   "outputs": [
    {
     "data": {
      "image/png": "[encoded data removed]",
      "text/plain": [
       "<Figure size 576x576 with 2 Axes>"
      ]
     },
     "metadata": {
      "needs_background": "light"
     },
     "output_type": "display_data"
    }
   ],
   "source": [
    "def plot_accurary_and_loss(history, name):\n",
    "    acc = history.history['accuracy']\n",
    "    val_acc = history.history['val_accuracy']\n",
    "\n",
    "    loss=history.history['loss']\n",
    "    val_loss=history.history['val_loss']\n",
    "\n",
    "    epochs_range = range(len(history.history['loss']))\n",
    "\n",
    "    plt.figure(figsize=(8, 8))\n",
    "    plt.subplot(1, 2, 1)\n",
    "    plt.plot(epochs_range, acc, label='Training Accuracy')\n",
    "    plt.plot(epochs_range, val_acc, label='Validation Accuracy')\n",
    "    plt.legend(loc='lower right')\n",
    "    plt.title('Training and Validation Accuracy')\n",
    "\n",
    "    plt.subplot(1, 2, 2)\n",
    "    plt.plot(epochs_range, loss, label='Training Loss')\n",
    "    plt.plot(epochs_range, val_loss, label='Validation Loss')\n",
    "    plt.legend(loc='upper right')\n",
    "    plt.title('Training and Validation Loss')\n",
    "    plt.savefig('images/{}.png'.format(name))\n",
    "    plt.show()\n",
    "plot_accurary_and_loss(history, 'dropout_binary_{}'.format(model_ts))"
   ]
  },
  {
   "cell_type": "code",
   "execution_count": null,
   "metadata": {},
   "outputs": [],
   "source": []
  },
  {
   "cell_type": "code",
   "execution_count": null,
   "metadata": {},
   "outputs": [],
   "source": []
  }
 ],
 "metadata": {
  "kernelspec": {
   "display_name": "Python [conda env:.conda-airbus]",
   "language": "python",
   "name": "conda-env-.conda-airbus-py"
  },
  "language_info": {
   "codemirror_mode": {
    "name": "ipython",
    "version": 3
   },
   "file_extension": ".py",
   "mimetype": "text/x-python",
   "name": "python",
   "nbconvert_exporter": "python",
   "pygments_lexer": "ipython3",
   "version": "3.7.6"
  }
 },
 "nbformat": 4,
 "nbformat_minor": 4
}
