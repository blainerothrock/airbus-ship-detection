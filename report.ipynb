{
 "cells": [
  {
   "cell_type": "markdown",
   "metadata": {},
   "source": [
    "# Airbus Ship Detection\n",
    "\n",
    "EE 435: Deep Learning Foundations from Scratch \\\n",
    "Northwestern Univertiy Winter 2020\n",
    "\n",
    "## Memebers\n",
    "* Blaine Rothrock (`BRY4768`)\n",
    "* Ilan Ponsky (`IPW1530`)\n",
    "* Will Dong (`WDG4518`)\n",
    "\n",
    "## Overview\n",
    "\n",
    "Based on the kaggle challenge [Airbus Ship Detection Challenge](https://www.kaggle.com/c/airbus-ship-detection/overview). This challenge uses satellite images to detect if a image has ships and draw a box (mask) around the ship. This challenge contains ~40GB of data and the training size is a little out of scope for this project, so we approaching it with two goals:\n",
    "1. Training a binary classifier to classify images that contain ship(s)\n",
    "2. Explore the state-of-the-art approach to this model, U-Net\n",
    "    - Goal is to follow the baseline notebook submission and understand the architechure. "
   ]
  },
  {
   "cell_type": "markdown",
   "metadata": {},
   "source": [
    "## Step 1 Understanding the data and problem space\n",
    "\n",
    "// TODO"
   ]
  },
  {
   "cell_type": "markdown",
   "metadata": {},
   "source": [
    "## Binary Classification Results\n",
    "\n",
    " - followed [this](https://www.kaggle.com/inversion/run-length-decoding-quick-start) Kaggle note book for getting started with the "
   ]
  },
  {
   "cell_type": "code",
   "execution_count": null,
   "metadata": {},
   "outputs": [],
   "source": []
  }
 ],
 "metadata": {
  "kernelspec": {
   "display_name": "Python [conda env:.conda-airbus]",
   "language": "python",
   "name": "conda-env-.conda-airbus-py"
  },
  "language_info": {
   "codemirror_mode": {
    "name": "ipython",
    "version": 3
   },
   "file_extension": ".py",
   "mimetype": "text/x-python",
   "name": "python",
   "nbconvert_exporter": "python",
   "pygments_lexer": "ipython3",
   "version": "3.7.6"
  }
 },
 "nbformat": 4,
 "nbformat_minor": 4
}
